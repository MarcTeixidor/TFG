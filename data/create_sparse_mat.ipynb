{
 "cells": [
  {
   "cell_type": "code",
   "execution_count": 4,
   "metadata": {},
   "outputs": [],
   "source": [
    "import json\n",
    "import os\n",
    "import pandas as pd\n",
    "import numpy as np\n",
    "\n",
    "data_path = \"UNI/TFG/code/Million Playlist Dataset/spotify_million_playlist_dataset/data/\"\n",
    "\n",
    "# List with all mpd data files path\n",
    "files = sorted(os.listdir(data_path))"
   ]
  },
  {
   "cell_type": "code",
   "execution_count": null,
   "metadata": {
    "scrolled": true
   },
   "outputs": [],
   "source": [
    "playlists = {}\n",
    "for f in files:\n",
    "    print(f)\n",
    "    mpd = open(data_path + f)\n",
    "    mpd = json.load(mpd)['playlists']\n",
    "    \n",
    "    for playlist in mpd:\n",
    "        pid = playlist['pid']\n",
    "        playlists[pid] = []\n",
    "        tracks = playlist['tracks']\n",
    "        for track in tracks:\n",
    "            playlists[pid].append(track['track_name'])"
   ]
  },
  {
   "cell_type": "code",
   "execution_count": 21,
   "metadata": {},
   "outputs": [
    {
     "name": "stderr",
     "output_type": "stream",
     "text": [
      "/Library/Frameworks/Python.framework/Versions/3.7/lib/python3.7/site-packages/ipykernel_launcher.py:1: DeprecationWarning: Using or importing the ABCs from 'collections' instead of from 'collections.abc' is deprecated, and in 3.8 it will stop working\n",
      "  \"\"\"Entry point for launching an IPython kernel.\n"
     ]
    }
   ],
   "source": [
    "from collections import Iterable\n",
    "\n",
    "def flatten(lis):\n",
    "    for item in lis:\n",
    "        if isinstance(item, Iterable) and not isinstance(item, str):\n",
    "            for x in flatten(item):\n",
    "                yield x\n",
    "        else:        \n",
    "            yield item"
   ]
  },
  {
   "cell_type": "code",
   "execution_count": 27,
   "metadata": {},
   "outputs": [],
   "source": [
    "songs = list(flatten(playlists.values()))\n",
    "songs_test = list(set(songs))"
   ]
  },
  {
   "cell_type": "code",
   "execution_count": 32,
   "metadata": {},
   "outputs": [],
   "source": [
    "song_to_id_dict = {}\n",
    "\n",
    "sid = 0\n",
    "for song in songs_test:\n",
    "    song_to_id_dict[song] = sid\n",
    "    sid += 1"
   ]
  },
  {
   "cell_type": "code",
   "execution_count": 36,
   "metadata": {},
   "outputs": [],
   "source": [
    "playlist_to_sid = {}\n",
    "\n",
    "for pid in playlists.keys():\n",
    "    playlist_to_sid[pid] = []\n",
    "    for song in playlists[pid]:\n",
    "        playlist_to_sid[pid].append(song_to_id_dict[song])"
   ]
  },
  {
   "cell_type": "code",
   "execution_count": 47,
   "metadata": {},
   "outputs": [],
   "source": [
    "import scipy.sparse as sp\n",
    "\n",
    "mat = sp.dok_matrix((len(playlist_to_sid.keys()),len(songs_test)), dtype=np.int8)\n",
    "\n",
    "for playlist, song in playlist_to_sid.items():\n",
    "    mat[playlist, song] = 1\n",
    "    \n",
    "mat = mat.tocsr()"
   ]
  },
  {
   "cell_type": "code",
   "execution_count": 53,
   "metadata": {},
   "outputs": [],
   "source": [
    "sp.save_npz(\"sparsemat/mat.npz\", mat)"
   ]
  },
  {
   "cell_type": "code",
   "execution_count": 55,
   "metadata": {},
   "outputs": [],
   "source": [
    "f = open(\"sparsemat/playlist_to_sid.txt\",\"w\")\n",
    "\n",
    "# write file\n",
    "f.write( str(playlist_to_sid) )\n",
    "\n",
    "# close file\n",
    "f.close()"
   ]
  },
  {
   "cell_type": "code",
   "execution_count": 56,
   "metadata": {},
   "outputs": [],
   "source": [
    "f = open(\"sparsemat/song_to_id_dict.txt\",\"w\")\n",
    "\n",
    "# write file\n",
    "f.write( str(song_to_id_dict) )\n",
    "\n",
    "# close file\n",
    "f.close()"
   ]
  }
 ],
 "metadata": {
  "kernelspec": {
   "display_name": "Python 3",
   "language": "python",
   "name": "python3"
  },
  "language_info": {
   "codemirror_mode": {
    "name": "ipython",
    "version": 3
   },
   "file_extension": ".py",
   "mimetype": "text/x-python",
   "name": "python",
   "nbconvert_exporter": "python",
   "pygments_lexer": "ipython3",
   "version": "3.7.4"
  }
 },
 "nbformat": 4,
 "nbformat_minor": 4
}
